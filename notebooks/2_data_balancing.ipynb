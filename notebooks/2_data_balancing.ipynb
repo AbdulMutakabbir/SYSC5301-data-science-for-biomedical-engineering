{
 "cells": [
  {
   "cell_type": "code",
   "execution_count": null,
   "metadata": {},
   "outputs": [],
   "source": [
    "# ! pip install tqdm"
   ]
  },
  {
   "cell_type": "code",
   "execution_count": 33,
   "metadata": {},
   "outputs": [],
   "source": [
    "from torchvision.datasets import ImageFolder\n",
    "from torchvision import utils, transforms\n",
    "\n",
    "import pandas as pd\n",
    "from tqdm import tqdm\n",
    "\n",
    "import os\n",
    "\n",
    "from dotenv import load_dotenv"
   ]
  },
  {
   "cell_type": "code",
   "execution_count": null,
   "metadata": {},
   "outputs": [],
   "source": [
    "PATH_TO_DOT_ENV = \"../src/.env\"\n",
    "\n",
    "# load environment variables from the .env file\n",
    "load_dotenv(PATH_TO_DOT_ENV)\n",
    "\n",
    "APTOS_2019_FILE_EXTENSION = os.environ.get(\"APTOS_2019_FILE_EXTENSION\")\n",
    "\n",
    "PROCESSED_DATASET_DIR = \"..\" + os.environ.get(\"PROCESSED_DATASET_DIR\")\n",
    "TRAIN_DATASET_ROOT_DIR = PROCESSED_DATASET_DIR + os.environ.get(\"PROCESSED_DATASET_TRAIN_DIR\")\n",
    "BALANCED_TRAIN_DATASET_ROOT_DIR = PROCESSED_DATASET_DIR + os.environ.get(\"PROCESSED_DATASET_TRAIN_BALANCED_DIR\")\n",
    "\n",
    "BALALCED_DATASET_INCREASE = int(os.environ.get(\"BALALCED_DATASET_INCREASE\"))\n",
    "\n",
    "BATCH_SIZE = int(os.environ.get(\"BATCH_SIZE\"))\n",
    "NUM_WORKERS = int(os.environ.get(\"NUM_WORKERS\"))"
   ]
  },
  {
   "cell_type": "code",
   "execution_count": null,
   "metadata": {},
   "outputs": [],
   "source": [
    "data_transforms = transforms.Compose([\n",
    "        transforms.RandomRotation(degrees=(0, 90)),\n",
    "        transforms.RandomHorizontalFlip(p=0.5),\n",
    "        transforms.RandomVerticalFlip(p=0.5),\n",
    "        transforms.ColorJitter(brightness=.05, hue=.05),\n",
    "        transforms.Resize(size=(360,360)),\n",
    "        transforms.ToTensor(),\n",
    "])"
   ]
  },
  {
   "cell_type": "code",
   "execution_count": null,
   "metadata": {},
   "outputs": [],
   "source": [
    "train_dataset = ImageFolder(\n",
    "    root = TRAIN_DATASET_ROOT_DIR,\n",
    ")"
   ]
  },
  {
   "cell_type": "code",
   "execution_count": null,
   "metadata": {},
   "outputs": [
    {
     "data": {
      "text/plain": [
       "<Axes: xlabel='0'>"
      ]
     },
     "execution_count": 5,
     "metadata": {},
     "output_type": "execute_result"
    },
    {
     "data": {
      "image/png": "[encoded data removed]",
      "text/plain": [
       "<Figure size 640x480 with 1 Axes>"
      ]
     },
     "metadata": {},
     "output_type": "display_data"
    }
   ],
   "source": [
    "labels_df = pd.DataFrame(train_dataset.targets)\n",
    "\n",
    "lable_percentages = labels_df.value_counts() / len(labels_df) \n",
    "lable_percentages.plot.bar()\n"
   ]
  },
  {
   "cell_type": "code",
   "execution_count": null,
   "metadata": {},
   "outputs": [
    {
     "data": {
      "text/plain": [
       "0\n",
       "0     4.0\n",
       "2     7.0\n",
       "1    20.0\n",
       "4    25.0\n",
       "3    38.0\n",
       "Name: count, dtype: float64"
      ]
     },
     "execution_count": 24,
     "metadata": {},
     "output_type": "execute_result"
    }
   ],
   "source": [
    "increament_df = (BALALCED_DATASET_INCREASE / lable_percentages).round()\n",
    "increament_df"
   ]
  },
  {
   "cell_type": "code",
   "execution_count": null,
   "metadata": {},
   "outputs": [],
   "source": [
    "for lable in train_dataset.classes:\n",
    "    os.makedirs(f\"{BALANCED_TRAIN_DATASET_ROOT_DIR}{lable}\", exist_ok=True)"
   ]
  },
  {
   "cell_type": "code",
   "execution_count": 37,
   "metadata": {},
   "outputs": [
    {
     "name": "stderr",
     "output_type": "stream",
     "text": [
      "100%|██████████| 2929/2929 [2:03:04<00:00,  2.52s/it, ../data/processed/train_balanced/4/2928_024.png]  \n"
     ]
    }
   ],
   "source": [
    "progress_bar = tqdm(train_dataset)\n",
    "for image_index, (image, lable) in enumerate(progress_bar):\n",
    "    for transform_index in range(int(increament_df[lable])):\n",
    "        file_name = f\"{BALANCED_TRAIN_DATASET_ROOT_DIR}{lable}/{image_index:02}_{transform_index:03}{APTOS_2019_FILE_EXTENSION}\"\n",
    "        transformed_image = data_transforms(image)\n",
    "        \n",
    "        progress_bar.set_postfix_str(file_name)\n",
    "        \n",
    "        utils.save_image(transformed_image, file_name)"
   ]
  },
  {
   "cell_type": "code",
   "execution_count": 38,
   "metadata": {},
   "outputs": [],
   "source": [
    "balanced_train_dataset = ImageFolder(\n",
    "    root = BALANCED_TRAIN_DATASET_ROOT_DIR,\n",
    "    transform=data_transforms,\n",
    ")"
   ]
  },
  {
   "cell_type": "code",
   "execution_count": 47,
   "metadata": {},
   "outputs": [
    {
     "name": "stdout",
     "output_type": "stream",
     "text": [
      "Class 0: 5776\n",
      "Class 1: 5920\n",
      "Class 2: 5593\n",
      "Class 3: 5852\n",
      "Class 4: 5900\n"
     ]
    }
   ],
   "source": [
    "for _class in balanced_train_dataset.classes:\n",
    "    image_count = len(os.listdir(f\"{BALANCED_TRAIN_DATASET_ROOT_DIR}{_class}\"))\n",
    "    print(f\"Class {_class}: {image_count}\")"
   ]
  },
  {
   "cell_type": "code",
   "execution_count": null,
   "metadata": {},
   "outputs": [],
   "source": []
  }
 ],
 "metadata": {
  "kernelspec": {
   "display_name": ".venv",
   "language": "python",
   "name": "python3"
  },
  "language_info": {
   "codemirror_mode": {
    "name": "ipython",
    "version": 3
   },
   "file_extension": ".py",
   "mimetype": "text/x-python",
   "name": "python",
   "nbconvert_exporter": "python",
   "pygments_lexer": "ipython3",
   "version": "3.10.12"
  }
 },
 "nbformat": 4,
 "nbformat_minor": 2
}
